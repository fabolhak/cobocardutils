{
 "cells": [
  {
   "cell_type": "code",
   "execution_count": null,
   "metadata": {},
   "outputs": [],
   "source": [
    "# import all important stuff\n",
    "from selenium import webdriver\n",
    "from selenium.webdriver.common.by import By\n",
    "from selenium.webdriver.common.keys import Keys\n",
    "from selenium.webdriver.support.ui import Select\n",
    "from selenium.webdriver.support.ui import WebDriverWait\n",
    "from selenium.webdriver.support import expected_conditions as EC\n",
    "from selenium.common.exceptions import NoSuchElementException\n",
    "from selenium.common.exceptions import NoAlertPresentException\n",
    "import unittest, time, re, os, shutil, glob, urllib2"
   ]
  },
  {
   "cell_type": "code",
   "execution_count": null,
   "metadata": {},
   "outputs": [],
   "source": [
    "# credentials\n",
    "email=\"\"\n",
    "passwd=\"\"\n",
    "\n",
    "# folders\n",
    "download_folder = \"/folder/to/download/files/to\""
   ]
  },
  {
   "cell_type": "code",
   "execution_count": null,
   "metadata": {},
   "outputs": [],
   "source": [
    "# start chrome in automated mode\n",
    "driver = webdriver.Chrome()\n",
    "driver.implicitly_wait(30)\n",
    "\n",
    "# login\n",
    "driver.get(\"https://www.cobocards.com/app/login/\")\n",
    "driver.find_element_by_name(\"email\").click()\n",
    "driver.find_element_by_name(\"email\").clear()\n",
    "driver.find_element_by_name(\"email\").send_keys(email)\n",
    "driver.find_element_by_name(\"password\").clear()\n",
    "driver.find_element_by_name(\"password\").send_keys(passwd)\n",
    "driver.find_element_by_name(\"password\").send_keys(Keys.ENTER)\n",
    "\n",
    "# create dictionary with key=folderid and value=name\n",
    "folders = dict()\n",
    "\n",
    "# loop over all folders\n",
    "for folder in driver.find_elements_by_class_name('folder'):\n",
    "    # get the link inside a folder\n",
    "    linkobject = folder.find_element_by_xpath('.//a')\n",
    "    # get url to folder\n",
    "    url = linkobject.get_attribute(\"href\")\n",
    "    # remove trailing slash\n",
    "    if url.endswith('/'):\n",
    "        url = url[:-1]\n",
    "    # remove rest of url (we only want folder id)\n",
    "    key = url.split('/').pop()\n",
    "    # get name of folder\n",
    "    name = linkobject.text\n",
    "    # save everything\n",
    "    folders[key] = name\n",
    "    print \"Added new folder: \" + name + \" (\" + key + \")\"\n"
   ]
  },
  {
   "cell_type": "code",
   "execution_count": null,
   "metadata": {},
   "outputs": [],
   "source": [
    "# now go to each folder and get cardsets\n",
    "for folderid in folders:\n",
    "    # navigate to correct url\n",
    "    driver.get(\"https://www.cobocards.com/app/folder/\" + folderid)\n",
    "    # loop over all cardsets\n",
    "    for cardset in driver.find_elements_by_class_name('cardsetbox'):\n",
    "        # get correct cardset element\n",
    "        cardset2 =  cardset.find_element_by_class_name('cardset')\n",
    "        # click on drop down menu (down arraow)\n",
    "        cardset2.find_element_by_xpath( './/img[@src=\"/app/img/arrow_dropdown_red.png\"]').click()\n",
    "        # click on export button\n",
    "        dropdown = cardset2.find_element_by_class_name('dropdown')\n",
    "        dropdown.find_element_by_xpath('.//a[@data-ga-evt=\"export-option-home\"]').click()\n",
    "        # wait until the \"ok\" button is clickable\n",
    "        wait = WebDriverWait(driver, 3000)\n",
    "        wait.until(EC.element_to_be_clickable((By.ID, 'm_ok')))\n",
    "        # click \"ok\" button\n",
    "        driver.find_element_by_id(\"m_ok\").click()\n",
    "        # wait until export dialog has vanished\n",
    "        wait = WebDriverWait(driver, 300)\n",
    "        wait.until(EC.invisibility_of_element_located((By.ID, 'm_div')))\n",
    "    \n",
    "    # create a new folder with that name\n",
    "    target_folder = download_folder + \"/Exports\" + \"/\" + folders[folderid]\n",
    "    if not os.path.exists(target_folder):\n",
    "        os.makedirs(target_folder)\n",
    "        \n",
    "    # move all downloaded packages to this folder\n",
    "    downloads = download_folder + \"/CoboCards*.zip\"\n",
    "    for download in glob.glob(downloads):\n",
    "        shutil.move(download, target_folder)\n"
   ]
  }
 ],
 "metadata": {
  "kernelspec": {
   "display_name": "Python 3",
   "language": "python",
   "name": "python3"
  },
  "language_info": {
   "codemirror_mode": {
    "name": "ipython",
    "version": 3
   },
   "file_extension": ".py",
   "mimetype": "text/x-python",
   "name": "python",
   "nbconvert_exporter": "python",
   "pygments_lexer": "ipython3",
   "version": "3.6.6"
  }
 },
 "nbformat": 4,
 "nbformat_minor": 2
}
